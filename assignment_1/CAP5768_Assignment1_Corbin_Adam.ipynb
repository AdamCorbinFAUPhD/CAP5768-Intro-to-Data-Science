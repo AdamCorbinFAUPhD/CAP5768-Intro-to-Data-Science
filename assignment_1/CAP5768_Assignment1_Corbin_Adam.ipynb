{
 "cells": [
  {
   "cell_type": "markdown",
   "metadata": {
    "colab_type": "text",
    "id": "p78j872pOKTZ"
   },
   "source": [
    "# CAP 5768 - Data Science - Adam Corbin- Fall 2019"
   ]
  },
  {
   "cell_type": "markdown",
   "metadata": {
    "colab_type": "text",
    "id": "NYmNMHGLOKTa"
   },
   "source": [
    "# Assignment 1: The Python data science stack "
   ]
  },
  {
   "cell_type": "markdown",
   "metadata": {
    "colab_type": "text",
    "id": "9UMnsRndOKTb"
   },
   "source": [
    "### Goals \n",
    "\n",
    "- To get acquainted with Python and Jupyter notebooks.\n",
    "- To acquire a basic understanding of the Python \"data science stack\" (NumPy, Pandas, Matplotlib).\n",
    "- To have an early experience of manipulating, summarizing, and visualizing small datasets. \n",
    "- To demonstrate the ability to write Python code to answer questions and test hypotheses based on the contents of those datasets.\n"
   ]
  },
  {
   "cell_type": "markdown",
   "metadata": {
    "colab_type": "text",
    "id": "B0rEAT7MOKTb"
   },
   "source": [
    "### Instructions\n",
    "\n",
    "- This assignment is structured as a game, with three levels of increasing complexity.\n",
    "- For each level, there will be some Python code to be written and questions to be answered.\n",
    "- At the end, you should export your notebook to PDF format; it will \"automagically\" become your report.\n",
    "- Submit the report (PDF), notebook (.ipynb file), and (optionally) link to the \"live\" version of your solution on Google Colaboratory via Canvas.\n",
    "- The total number of points is 320 (plus up to 44 bonus points), distributed as follows: Level 1 (82 pts), Level 2 (70+ pts), Level 3 (132+ pts) and Conclusions (36 pts)."
   ]
  },
  {
   "cell_type": "markdown",
   "metadata": {
    "colab_type": "text",
    "id": "qiufouQn6OD9"
   },
   "source": [
    "### Important\n",
    "\n",
    "- It is OK to attempt the bonus points, but please **do not overdo it!** \n",
    "- Remember: this is an early exercise in exploring datasets; learning the syntax and \"tricks\" of Python, Jupyter notebooks, Numpy, Pandas, and Matplotlib; and writing code to test simple hypotheses and produce answers to simple questions that **you know you should be able to answer** because the answer can be pulled from the data.\n",
    "- This is not (yet) the time to do sophisticated statistical analysis, train ML models, etc. "
   ]
  },
  {
   "cell_type": "markdown",
   "metadata": {
    "colab_type": "text",
    "id": "ivz9CfpTOKTc"
   },
   "source": [
    "------------\n",
    "## Level 1: Presidents of the USA"
   ]
  },
  {
   "cell_type": "markdown",
   "metadata": {
    "colab_type": "text",
    "id": "F0XHAppiOKTc"
   },
   "source": [
    "The Python code below will load a dataset containing the names of the first 44 presidents of the USA and their heights, available in the file *president_heights.csv*, which is a simple comma-separated list of labels and values."
   ]
  },
  {
   "cell_type": "code",
   "execution_count": 71,
   "metadata": {},
   "outputs": [],
   "source": [
    "# Imports\n",
    "import numpy as np\n",
    "import pandas as pd\n",
    "from pandas import DataFrame, Series\n",
    "\n",
    "%matplotlib inline\n",
    "import matplotlib.pyplot as plt\n",
    "import seaborn as sns\n",
    "\n",
    "from scipy.stats import pearsonr"
   ]
  },
  {
   "cell_type": "code",
   "execution_count": 72,
   "metadata": {
    "colab": {
     "base_uri": "https://localhost:8080/",
     "height": 1000
    },
    "colab_type": "code",
    "id": "7IhX_GLmOKTd",
    "outputId": "db182542-cd14-4362-ea81-93e862cbb32b",
    "scrolled": true
   },
   "outputs": [
    {
     "data": {
      "text/html": [
       "<div>\n",
       "<style scoped>\n",
       "    .dataframe tbody tr th:only-of-type {\n",
       "        vertical-align: middle;\n",
       "    }\n",
       "\n",
       "    .dataframe tbody tr th {\n",
       "        vertical-align: top;\n",
       "    }\n",
       "\n",
       "    .dataframe thead th {\n",
       "        text-align: right;\n",
       "    }\n",
       "</style>\n",
       "<table border=\"1\" class=\"dataframe\">\n",
       "  <thead>\n",
       "    <tr style=\"text-align: right;\">\n",
       "      <th></th>\n",
       "      <th>order</th>\n",
       "      <th>name</th>\n",
       "      <th>height(cm)</th>\n",
       "    </tr>\n",
       "  </thead>\n",
       "  <tbody>\n",
       "    <tr>\n",
       "      <th>0</th>\n",
       "      <td>1</td>\n",
       "      <td>George Washington</td>\n",
       "      <td>189</td>\n",
       "    </tr>\n",
       "    <tr>\n",
       "      <th>1</th>\n",
       "      <td>2</td>\n",
       "      <td>John Adams</td>\n",
       "      <td>170</td>\n",
       "    </tr>\n",
       "    <tr>\n",
       "      <th>2</th>\n",
       "      <td>3</td>\n",
       "      <td>Thomas Jefferson</td>\n",
       "      <td>189</td>\n",
       "    </tr>\n",
       "    <tr>\n",
       "      <th>3</th>\n",
       "      <td>4</td>\n",
       "      <td>James Madison</td>\n",
       "      <td>163</td>\n",
       "    </tr>\n",
       "    <tr>\n",
       "      <th>4</th>\n",
       "      <td>5</td>\n",
       "      <td>James Monroe</td>\n",
       "      <td>183</td>\n",
       "    </tr>\n",
       "    <tr>\n",
       "      <th>5</th>\n",
       "      <td>6</td>\n",
       "      <td>John Quincy Adams</td>\n",
       "      <td>171</td>\n",
       "    </tr>\n",
       "    <tr>\n",
       "      <th>6</th>\n",
       "      <td>7</td>\n",
       "      <td>Andrew Jackson</td>\n",
       "      <td>185</td>\n",
       "    </tr>\n",
       "    <tr>\n",
       "      <th>7</th>\n",
       "      <td>8</td>\n",
       "      <td>Martin Van Buren</td>\n",
       "      <td>168</td>\n",
       "    </tr>\n",
       "    <tr>\n",
       "      <th>8</th>\n",
       "      <td>9</td>\n",
       "      <td>William Henry Harrison</td>\n",
       "      <td>173</td>\n",
       "    </tr>\n",
       "    <tr>\n",
       "      <th>9</th>\n",
       "      <td>10</td>\n",
       "      <td>John Tyler</td>\n",
       "      <td>183</td>\n",
       "    </tr>\n",
       "    <tr>\n",
       "      <th>10</th>\n",
       "      <td>11</td>\n",
       "      <td>James K. Polk</td>\n",
       "      <td>173</td>\n",
       "    </tr>\n",
       "    <tr>\n",
       "      <th>11</th>\n",
       "      <td>12</td>\n",
       "      <td>Zachary Taylor</td>\n",
       "      <td>173</td>\n",
       "    </tr>\n",
       "    <tr>\n",
       "      <th>12</th>\n",
       "      <td>13</td>\n",
       "      <td>Millard Fillmore</td>\n",
       "      <td>175</td>\n",
       "    </tr>\n",
       "    <tr>\n",
       "      <th>13</th>\n",
       "      <td>14</td>\n",
       "      <td>Franklin Pierce</td>\n",
       "      <td>178</td>\n",
       "    </tr>\n",
       "    <tr>\n",
       "      <th>14</th>\n",
       "      <td>15</td>\n",
       "      <td>James Buchanan</td>\n",
       "      <td>183</td>\n",
       "    </tr>\n",
       "    <tr>\n",
       "      <th>15</th>\n",
       "      <td>16</td>\n",
       "      <td>Abraham Lincoln</td>\n",
       "      <td>193</td>\n",
       "    </tr>\n",
       "    <tr>\n",
       "      <th>16</th>\n",
       "      <td>17</td>\n",
       "      <td>Andrew Johnson</td>\n",
       "      <td>178</td>\n",
       "    </tr>\n",
       "    <tr>\n",
       "      <th>17</th>\n",
       "      <td>18</td>\n",
       "      <td>Ulysses S. Grant</td>\n",
       "      <td>173</td>\n",
       "    </tr>\n",
       "    <tr>\n",
       "      <th>18</th>\n",
       "      <td>19</td>\n",
       "      <td>Rutherford B. Hayes</td>\n",
       "      <td>174</td>\n",
       "    </tr>\n",
       "    <tr>\n",
       "      <th>19</th>\n",
       "      <td>20</td>\n",
       "      <td>James A. Garfield</td>\n",
       "      <td>183</td>\n",
       "    </tr>\n",
       "    <tr>\n",
       "      <th>20</th>\n",
       "      <td>21</td>\n",
       "      <td>Chester A. Arthur</td>\n",
       "      <td>183</td>\n",
       "    </tr>\n",
       "    <tr>\n",
       "      <th>21</th>\n",
       "      <td>23</td>\n",
       "      <td>Benjamin Harrison</td>\n",
       "      <td>168</td>\n",
       "    </tr>\n",
       "    <tr>\n",
       "      <th>22</th>\n",
       "      <td>25</td>\n",
       "      <td>William McKinley</td>\n",
       "      <td>170</td>\n",
       "    </tr>\n",
       "    <tr>\n",
       "      <th>23</th>\n",
       "      <td>26</td>\n",
       "      <td>Theodore Roosevelt</td>\n",
       "      <td>178</td>\n",
       "    </tr>\n",
       "    <tr>\n",
       "      <th>24</th>\n",
       "      <td>27</td>\n",
       "      <td>William Howard Taft</td>\n",
       "      <td>182</td>\n",
       "    </tr>\n",
       "    <tr>\n",
       "      <th>25</th>\n",
       "      <td>28</td>\n",
       "      <td>Woodrow Wilson</td>\n",
       "      <td>180</td>\n",
       "    </tr>\n",
       "    <tr>\n",
       "      <th>26</th>\n",
       "      <td>29</td>\n",
       "      <td>Warren G. Harding</td>\n",
       "      <td>183</td>\n",
       "    </tr>\n",
       "    <tr>\n",
       "      <th>27</th>\n",
       "      <td>30</td>\n",
       "      <td>Calvin Coolidge</td>\n",
       "      <td>178</td>\n",
       "    </tr>\n",
       "    <tr>\n",
       "      <th>28</th>\n",
       "      <td>31</td>\n",
       "      <td>Herbert Hoover</td>\n",
       "      <td>182</td>\n",
       "    </tr>\n",
       "    <tr>\n",
       "      <th>29</th>\n",
       "      <td>32</td>\n",
       "      <td>Franklin D. Roosevelt</td>\n",
       "      <td>188</td>\n",
       "    </tr>\n",
       "    <tr>\n",
       "      <th>30</th>\n",
       "      <td>33</td>\n",
       "      <td>Harry S. Truman</td>\n",
       "      <td>175</td>\n",
       "    </tr>\n",
       "    <tr>\n",
       "      <th>31</th>\n",
       "      <td>34</td>\n",
       "      <td>Dwight D. Eisenhower</td>\n",
       "      <td>179</td>\n",
       "    </tr>\n",
       "    <tr>\n",
       "      <th>32</th>\n",
       "      <td>35</td>\n",
       "      <td>John F. Kennedy</td>\n",
       "      <td>183</td>\n",
       "    </tr>\n",
       "    <tr>\n",
       "      <th>33</th>\n",
       "      <td>36</td>\n",
       "      <td>Lyndon B. Johnson</td>\n",
       "      <td>193</td>\n",
       "    </tr>\n",
       "    <tr>\n",
       "      <th>34</th>\n",
       "      <td>37</td>\n",
       "      <td>Richard Nixon</td>\n",
       "      <td>182</td>\n",
       "    </tr>\n",
       "    <tr>\n",
       "      <th>35</th>\n",
       "      <td>38</td>\n",
       "      <td>Gerald Ford</td>\n",
       "      <td>183</td>\n",
       "    </tr>\n",
       "    <tr>\n",
       "      <th>36</th>\n",
       "      <td>39</td>\n",
       "      <td>Jimmy Carter</td>\n",
       "      <td>177</td>\n",
       "    </tr>\n",
       "    <tr>\n",
       "      <th>37</th>\n",
       "      <td>40</td>\n",
       "      <td>Ronald Reagan</td>\n",
       "      <td>185</td>\n",
       "    </tr>\n",
       "    <tr>\n",
       "      <th>38</th>\n",
       "      <td>41</td>\n",
       "      <td>George H. W. Bush</td>\n",
       "      <td>188</td>\n",
       "    </tr>\n",
       "    <tr>\n",
       "      <th>39</th>\n",
       "      <td>42</td>\n",
       "      <td>Bill Clinton</td>\n",
       "      <td>188</td>\n",
       "    </tr>\n",
       "    <tr>\n",
       "      <th>40</th>\n",
       "      <td>43</td>\n",
       "      <td>George W. Bush</td>\n",
       "      <td>182</td>\n",
       "    </tr>\n",
       "    <tr>\n",
       "      <th>41</th>\n",
       "      <td>44</td>\n",
       "      <td>Barack Obama</td>\n",
       "      <td>185</td>\n",
       "    </tr>\n",
       "  </tbody>\n",
       "</table>\n",
       "</div>"
      ],
      "text/plain": [
       "    order                    name  height(cm)\n",
       "0       1       George Washington         189\n",
       "1       2              John Adams         170\n",
       "2       3        Thomas Jefferson         189\n",
       "3       4           James Madison         163\n",
       "4       5            James Monroe         183\n",
       "5       6       John Quincy Adams         171\n",
       "6       7          Andrew Jackson         185\n",
       "7       8        Martin Van Buren         168\n",
       "8       9  William Henry Harrison         173\n",
       "9      10              John Tyler         183\n",
       "10     11           James K. Polk         173\n",
       "11     12          Zachary Taylor         173\n",
       "12     13        Millard Fillmore         175\n",
       "13     14         Franklin Pierce         178\n",
       "14     15          James Buchanan         183\n",
       "15     16         Abraham Lincoln         193\n",
       "16     17          Andrew Johnson         178\n",
       "17     18        Ulysses S. Grant         173\n",
       "18     19     Rutherford B. Hayes         174\n",
       "19     20       James A. Garfield         183\n",
       "20     21       Chester A. Arthur         183\n",
       "21     23       Benjamin Harrison         168\n",
       "22     25        William McKinley         170\n",
       "23     26      Theodore Roosevelt         178\n",
       "24     27     William Howard Taft         182\n",
       "25     28          Woodrow Wilson         180\n",
       "26     29       Warren G. Harding         183\n",
       "27     30         Calvin Coolidge         178\n",
       "28     31          Herbert Hoover         182\n",
       "29     32   Franklin D. Roosevelt         188\n",
       "30     33         Harry S. Truman         175\n",
       "31     34    Dwight D. Eisenhower         179\n",
       "32     35         John F. Kennedy         183\n",
       "33     36       Lyndon B. Johnson         193\n",
       "34     37           Richard Nixon         182\n",
       "35     38             Gerald Ford         183\n",
       "36     39            Jimmy Carter         177\n",
       "37     40           Ronald Reagan         185\n",
       "38     41       George H. W. Bush         188\n",
       "39     42            Bill Clinton         188\n",
       "40     43          George W. Bush         182\n",
       "41     44            Barack Obama         185"
      ]
     },
     "execution_count": 72,
     "metadata": {},
     "output_type": "execute_result"
    }
   ],
   "source": [
    "file = 'data/president_heights.csv'\n",
    "presidents = pd.read_csv(file) \n",
    "presidents"
   ]
  },
  {
   "cell_type": "markdown",
   "metadata": {
    "colab_type": "text",
    "id": "Sf9JB_ntOKTg"
   },
   "source": [
    "## Your turn! (8 points)\n",
    "\n",
    "Write code to display the histogram (4 pts) of president's heights and compute summary statistics (4 pts): \n",
    "\n",
    "- Mean height\n",
    "- Standard deviation\n",
    "- Minimum height, and \n",
    "- Maximum height."
   ]
  },
  {
   "cell_type": "markdown",
   "metadata": {
    "colab_type": "text",
    "id": "tdOZPjis7Phf"
   },
   "source": [
    "## Solution"
   ]
  },
  {
   "cell_type": "code",
   "execution_count": 73,
   "metadata": {
    "colab": {},
    "colab_type": "code",
    "id": "BQkN1WvQOKTi"
   },
   "outputs": [
    {
     "name": "stdout",
     "output_type": "stream",
     "text": [
      "\n",
      "Mean\t\t\t179.738\n",
      "Standard Deviation \t7.016\n",
      "Max\t\t\t163\n",
      "Max\t\t\t193\n"
     ]
    }
   ],
   "source": [
    "heigth_col = presidents[\"height(cm)\"]\n",
    "print()\n",
    "\n",
    "mean_heigth = round(heigth_col.mean(),3)\n",
    "std_heigth = round(heigth_col.std(),3)\n",
    "print(\"Mean\\t\\t\\t\" + str(mean_heigth))\n",
    "print(\"Standard Deviation \\t\" + str(std_heigth))\n",
    "print(\"Max\\t\\t\\t\" + str(heigth_col.min()))\n",
    "print(\"Max\\t\\t\\t\" + str(heigth_col.max()))\n"
   ]
  },
  {
   "cell_type": "markdown",
   "metadata": {
    "colab_type": "text",
    "id": "BbUZtqu7OKTl"
   },
   "source": [
    "## Your turn! (18 points)\n",
    "\n",
    "Write Python code to answer the following questions (make sure the messages displayed by your code are complete and descriptive enough):\n",
    "\n",
    "1. Who was(were) the tallest president(s)?\n",
    "2. Who was(were) the shortest president(s)?\n",
    "3. How many presidents were 6' tall or taller?"
   ]
  },
  {
   "cell_type": "markdown",
   "metadata": {
    "colab_type": "text",
    "id": "eWDwcuiz7Wiz"
   },
   "source": [
    "## Solution"
   ]
  },
  {
   "cell_type": "code",
   "execution_count": 74,
   "metadata": {
    "colab": {},
    "colab_type": "code",
    "id": "ZZqA7kEWOKTl"
   },
   "outputs": [
    {
     "name": "stdout",
     "output_type": "stream",
     "text": [
      "Tallest Presidents\n",
      "    order               name  height(cm)\n",
      "15     16    Abraham Lincoln         193\n",
      "33     36  Lyndon B. Johnson         193\n",
      "------------------\n",
      "Shortest Presidents\n",
      "   order           name  height(cm)\n",
      "3      4  James Madison         163\n",
      "------------------\n",
      "Presidents >= 6ft(182.88cm)\n",
      "    order                   name  height(cm)\n",
      "0       1      George Washington         189\n",
      "2       3       Thomas Jefferson         189\n",
      "4       5           James Monroe         183\n",
      "6       7         Andrew Jackson         185\n",
      "9      10             John Tyler         183\n",
      "14     15         James Buchanan         183\n",
      "15     16        Abraham Lincoln         193\n",
      "19     20      James A. Garfield         183\n",
      "20     21      Chester A. Arthur         183\n",
      "26     29      Warren G. Harding         183\n",
      "29     32  Franklin D. Roosevelt         188\n",
      "32     35        John F. Kennedy         183\n",
      "33     36      Lyndon B. Johnson         193\n",
      "35     38            Gerald Ford         183\n",
      "37     40          Ronald Reagan         185\n",
      "38     41      George H. W. Bush         188\n",
      "39     42           Bill Clinton         188\n",
      "41     44           Barack Obama         185\n"
     ]
    }
   ],
   "source": [
    "tallest_presidents = presidents[presidents[\"height(cm)\"] == presidents[\"height(cm)\"].max()]\n",
    "smallest_presidents = presidents[presidents[\"height(cm)\"] == presidents[\"height(cm)\"].min()]\n",
    "#1 foot = 30.48 cm\n",
    "heigth_threshold = 6 * 30.48\n",
    "six_feet_or_taller = presidents[presidents[\"height(cm)\"] >= heigth_threshold]\n",
    "print(\"Tallest Presidents\")\n",
    "print(tallest_presidents)\n",
    "print(\"------------------\")\n",
    "print(\"Shortest Presidents\")\n",
    "print(smallest_presidents)\n",
    "print(\"------------------\")\n",
    "print(\"Presidents >= 6ft(\" + str(heigth_threshold) + \"cm)\")\n",
    "print(six_feet_or_taller)"
   ]
  },
  {
   "cell_type": "markdown",
   "metadata": {
    "colab_type": "text",
    "id": "YNr4O_tHOKTn"
   },
   "source": [
    "-------------\n",
    "\n",
    "This is an extremely small, simple and manageable dataset. \n",
    "\n",
    "Let's use it to prove a silly hypotheses, for example: \n",
    "\n",
    "\"H1: Even-numbered presidents are, in average, taller than odd-numbered ones.\" "
   ]
  },
  {
   "cell_type": "markdown",
   "metadata": {
    "colab_type": "text",
    "id": "KurMrocpOKTo"
   },
   "source": [
    "## Your turn! (24 points)\n",
    "\n",
    "Write Python code to test hypothesis H1."
   ]
  },
  {
   "cell_type": "markdown",
   "metadata": {
    "colab_type": "text",
    "id": "5jY56oY97Yvp"
   },
   "source": [
    "## Solution"
   ]
  },
  {
   "cell_type": "code",
   "execution_count": 75,
   "metadata": {
    "colab": {},
    "colab_type": "code",
    "id": "A4QFk_ktOKTo"
   },
   "outputs": [
    {
     "name": "stdout",
     "output_type": "stream",
     "text": [
      "H1 hypothesis is false, Odd presidents(179.864) are taller than Even presidents(179.6)\n"
     ]
    }
   ],
   "source": [
    "# ENTER YOUR CODE HERE\n",
    "even_average_heigth = round(presidents[presidents[\"order\"] % 2 == 0][\"height(cm)\"].mean(),3)\n",
    "odd_average_heigth = round(presidents[presidents[\"order\"] % 2 == 1][\"height(cm)\"].mean(),3)\n",
    "if(even_average_heigth > odd_average_heigth):\n",
    "    print(\"H1 hypothesis is corret, Even presidents(\"+str(even_average_heigth) + \") are taller than Odd presidents(\"+str(odd_average_heigth)+ \")\")\n",
    "elif(even_average_heigth < odd_average_heigth):\n",
    "    print(\"H1 hypothesis is false, Odd presidents(\"+str(odd_average_heigth)+ \") are taller than Even presidents(\"+str(even_average_heigth) + \")\")\n",
    "else:\n",
    "    print(\"H1 hypothesis is false, Even and Odd presidents are about the same heigth at(\"+str(even_average_heigth) + \")\")\n",
    "    "
   ]
  },
  {
   "cell_type": "markdown",
   "metadata": {
    "colab_type": "text",
    "id": "TTEVu2FjOKTq"
   },
   "source": [
    "## Question 1 (4 points)\n",
    "\n",
    "Was hypothesis H1 confirmed or refuted?"
   ]
  },
  {
   "cell_type": "markdown",
   "metadata": {
    "colab_type": "text",
    "id": "dv-bu9a77Zit"
   },
   "source": [
    "## Solution"
   ]
  },
  {
   "cell_type": "markdown",
   "metadata": {
    "colab_type": "text",
    "id": "eOLyQdlcOKTq"
   },
   "source": [
    "The H1 is refuted since the Odd presidents heigths are on average 179.864cm and the Even presidents heigths are on average 179.6cm"
   ]
  },
  {
   "cell_type": "markdown",
   "metadata": {
    "colab_type": "text",
    "id": "KsQUHbQXOKTt"
   },
   "source": [
    "---------------------\n",
    "\n",
    "Now it's time for you to come up with a different (but also silly) hypotheses, which we will call H2. **Be creative!**"
   ]
  },
  {
   "cell_type": "markdown",
   "metadata": {
    "colab_type": "text",
    "id": "IDUa4m4hOKTu"
   },
   "source": [
    "## Your turn! (28 points)\n",
    "\n",
    "Write Python code to test hypothesis H2 (and some text to explain whether it was confirmed or not)."
   ]
  },
  {
   "cell_type": "markdown",
   "metadata": {},
   "source": [
    "\"H2: Presidents with more vowels are taller than ones with less vowels\" \n",
    "\n",
    "For consistancy a the vouel set will be [a, e, i, o, u]"
   ]
  },
  {
   "cell_type": "markdown",
   "metadata": {
    "colab_type": "text",
    "id": "X2zRCH0R7bG1"
   },
   "source": [
    "## Solution"
   ]
  },
  {
   "cell_type": "code",
   "execution_count": 100,
   "metadata": {
    "colab": {},
    "colab_type": "code",
    "id": "IfCLnKp-OKTv"
   },
   "outputs": [
    {
     "name": "stdout",
     "output_type": "stream",
     "text": [
      "Vouel count|Average Heigth\n",
      "0\t   |None\n",
      "1\t   |None\n",
      "2\t   |175.33\n",
      "3\t   |181.8\n",
      "4\t   |182.12\n",
      "5\t   |178.0\n",
      "6\t   |181.0\n",
      "7\t   |173.0\n",
      "8\t   |178.0\n",
      "9\t   |None\n"
     ]
    },
    {
     "data": {
      "image/png": "[encoded data removed]",
      "text/plain": [
       "<Figure size 432x288 with 1 Axes>"
      ]
     },
     "metadata": {
      "needs_background": "light"
     },
     "output_type": "display_data"
    }
   ],
   "source": [
    "#Get vouel count for each president, group them by vouel count, find if there is a coorolation between the groups\n",
    "president_vouel_count = []\n",
    "president_vouel_count_list = []\n",
    "vouels = ['a','e','i','o','u']\n",
    "\n",
    "# Collecting the vouel counts & then adding them to the DataTable\n",
    "for p in presidents[\"name\"]:\n",
    "    count = 0\n",
    "    for v in vouels:\n",
    "        count += p.count(v)\n",
    "    president_vouel_count.append(count)\n",
    "presidents[\"vouel count\"]  = president_vouel_count\n",
    "\n",
    "#Grouping presidents by vouel count\n",
    "average_heights_per_vouel_count = [0]*10 # Index will be considered vouel count\n",
    "print(\"Vouel count|Average Heigth\")\n",
    "vouel_x = []\n",
    "for vouel_count in range(0,10):\n",
    "    group_pres = presidents[presidents[\"vouel count\"] == vouel_count]\n",
    "    vouel_x.append(vouel_count)\n",
    "    avg = \"\"\n",
    "    if len(group_pres) > 0:\n",
    "        avg = group_pres[\"height(cm)\"].mean()\n",
    "        average_heights_per_vouel_count[vouel_count] = avg\n",
    "        avg = str(round(avg,2))\n",
    "#         print(group_pres) ## Uncomment this line to see the group of presidents\n",
    "    else:\n",
    "        avg = \"None\"\n",
    "    print(str(vouel_count) + \"\\t   |\" + avg)\n",
    "    \n",
    "# Trimming off index 0,1,10 since they dont have any values\n",
    "plt.scatter(vouel_x[2:9], average_heights_per_vouel_count[2:9], alpha=0.5)\n",
    "plt.show()\n",
    "\n"
   ]
  },
  {
   "cell_type": "markdown",
   "metadata": {},
   "source": [
    "### Evaluation of H2\n",
    "In general more vouels doesnt not mean a taller president. The tallest average had 5 vouels where the shortest average was 8 vouels. There was a tendency that the lower number of vouels equated to a taller president but not in all cases. In the end H2 was refuted "
   ]
  },
  {
   "cell_type": "markdown",
   "metadata": {
    "colab_type": "text",
    "id": "G2J9o001OKTx"
   },
   "source": [
    "-------------------\n",
    "## Level 2: HR payroll"
   ]
  },
  {
   "cell_type": "markdown",
   "metadata": {
    "colab_type": "text",
    "id": "T1EXw38-OKTy"
   },
   "source": [
    "The Python code below will load a dataset containing the salaries and demographic data of more than 1000 employees of a hypothetical company, available in the file *salaries.csv*, which is a simple comma-separated list of labels and values."
   ]
  },
  {
   "cell_type": "code",
   "execution_count": 77,
   "metadata": {
    "colab": {
     "base_uri": "https://localhost:8080/",
     "height": 153
    },
    "colab_type": "code",
    "id": "lv1MGinjOKTz",
    "outputId": "41985ef6-75b7-4a23-89d3-0067c285f6e8"
   },
   "outputs": [
    {
     "name": "stdout",
     "output_type": "stream",
     "text": [
      "(1192, 6)\n",
      "earn      1192\n",
      "height    1192\n",
      "sex       1192\n",
      "ed        1192\n",
      "age       1192\n",
      "race      1192\n",
      "dtype: int64\n"
     ]
    }
   ],
   "source": [
    "salaries = pd.read_csv('data/salaries.csv') \n",
    "print(salaries.shape)\n",
    "print(salaries.count())"
   ]
  },
  {
   "cell_type": "markdown",
   "metadata": {
    "colab_type": "text",
    "id": "wxwNfCp1OKT2"
   },
   "source": [
    "## Question 2 (6 points)\n",
    "\n",
    "What is the meaning of each of the six variables/features stored along the columns of the dataset?"
   ]
  },
  {
   "cell_type": "markdown",
   "metadata": {
    "colab_type": "text",
    "id": "eJtlMdhL7cKa"
   },
   "source": [
    "## Solution"
   ]
  },
  {
   "cell_type": "markdown",
   "metadata": {
    "colab_type": "text",
    "id": "QWu0f6VwOKT3"
   },
   "source": [
    "## Definitions below\n",
    "earn - Income per year for an individual but not specified if its gross or net\n",
    "\n",
    "heigth - The heigth of the person that I presume is measured inches\n",
    "\n",
    "sex - Identification if the person is a male or female\n",
    "\n",
    "ed - Education level assuming number of years where 12 is highschool, 16 is bachelor's degree and anything more is graduate\n",
    "\n",
    "age - How old the indivdual is in years\n",
    "\n",
    "race - Identificaiton of race if the individual gave it\n"
   ]
  },
  {
   "cell_type": "markdown",
   "metadata": {
    "colab_type": "text",
    "id": "-bvyTbsZOKT4"
   },
   "source": [
    "--------------------\n",
    "\n",
    "Let's explore the dataset by plotting some graphs and displaying summary statistics. \n",
    "\n",
    "The code below should display:\n",
    "- Min, max, average, and median salary (global)\n",
    "- A histogram of salaries\n",
    "- A scatterplot correlating salaries and years of education\n",
    "- The (Pearson) correlation coefficient between the two variables.\n",
    "\n",
    "This should help us get started."
   ]
  },
  {
   "cell_type": "code",
   "execution_count": 78,
   "metadata": {
    "colab": {
     "base_uri": "https://localhost:8080/",
     "height": 102
    },
    "colab_type": "code",
    "id": "jai0zaQ1OKT5",
    "outputId": "8dc89377-1293-4211-d637-19a84e426389"
   },
   "outputs": [
    {
     "name": "stdout",
     "output_type": "stream",
     "text": [
      "Salary statistics\n",
      "Minimum salary (global): 200.0\n",
      "Maximum salary (global): 200000.0\n",
      "Average salary (global): 23154.773489932886\n",
      "Median  salary (global): 20000.0\n"
     ]
    }
   ],
   "source": [
    "salary = np.array(salaries['earn'])\n",
    "print(\"Salary statistics\")\n",
    "print(\"Minimum salary (global):\", np.min(salary))\n",
    "print(\"Maximum salary (global):\", np.max(salary))\n",
    "print(\"Average salary (global):\", np.mean(salary))\n",
    "print(\"Median  salary (global):\", np.median(salary))"
   ]
  },
  {
   "cell_type": "code",
   "execution_count": 79,
   "metadata": {
    "colab": {
     "base_uri": "https://localhost:8080/",
     "height": 301
    },
    "colab_type": "code",
    "id": "MQSn8R8MOKT6",
    "outputId": "5d1caaa5-c74c-43df-ba49-40710e7fd06d"
   },
   "outputs": [
    {
     "data": {
      "image/png": "[encoded data removed]",
      "text/plain": [
       "<Figure size 432x288 with 1 Axes>"
      ]
     },
     "metadata": {
      "needs_background": "light"
     },
     "output_type": "display_data"
    }
   ],
   "source": [
    "plt.hist(salary)\n",
    "plt.title('Salary Distribution')\n",
    "plt.xlabel('Salary')\n",
    "plt.ylabel('Number of Employees');"
   ]
  },
  {
   "cell_type": "code",
   "execution_count": 80,
   "metadata": {
    "colab": {
     "base_uri": "https://localhost:8080/",
     "height": 301
    },
    "colab_type": "code",
    "id": "DIcrOnZ4OKT8",
    "outputId": "24f5093a-336c-4a43-abb7-7a52b7aa14be"
   },
   "outputs": [
    {
     "data": {
      "image/png": "[encoded data removed]",
      "text/plain": [
       "<Figure size 432x288 with 1 Axes>"
      ]
     },
     "metadata": {
      "needs_background": "light"
     },
     "output_type": "display_data"
    }
   ],
   "source": [
    "years = np.array(salaries['ed'])\n",
    "plt.title('Salary vs. Education Level')\n",
    "plt.xlabel('Salary')\n",
    "plt.ylabel('Years of education');\n",
    "plt.scatter(salary, years, alpha=0.5)\n",
    "plt.show()"
   ]
  },
  {
   "cell_type": "code",
   "execution_count": 81,
   "metadata": {
    "colab": {
     "base_uri": "https://localhost:8080/",
     "height": 34
    },
    "colab_type": "code",
    "id": "fllJH1rfOKT_",
    "outputId": "4370e450-b503-4231-9d2c-c5efad8f289f"
   },
   "outputs": [
    {
     "name": "stdout",
     "output_type": "stream",
     "text": [
      "Correlation coefficient:  0.3399765246894845\n"
     ]
    }
   ],
   "source": [
    "# Compute Pearson coefficient\n",
    "from scipy.stats import pearsonr\n",
    "corr, _ = pearsonr(salary,years)\n",
    "print('Correlation coefficient: ',corr)"
   ]
  },
  {
   "cell_type": "markdown",
   "metadata": {
    "colab_type": "text",
    "id": "-n2_sL4UOKUA"
   },
   "source": [
    "The Pearson correlation coefficient (a value between -1 and 1) can be used to summarize the strength of the linear relationship between two data samples.\n",
    "\n",
    "A simplified way to interpret the result is:\n",
    "- A value of 0 means no correlation\n",
    "- Values below -0.5 or above 0.5 indicates a notable (negative/positive) correlation"
   ]
  },
  {
   "cell_type": "markdown",
   "metadata": {
    "colab_type": "text",
    "id": "oVXf-zPyOKUB"
   },
   "source": [
    "## Your turn! (16+ points)\n",
    "\n",
    "Write code to:\n",
    "\n",
    "1. Display the total headcount and the number (and %) of male and female employees. (4 pts)\n",
    "2. Compute and display the min, max, average, and median salary *per gender*. (12 pts)\n",
    "3. (OPTIONAL) Plot meaningful graphs that could provide insight into the gender inequality (*if any is present*) associated with the salaries in the company. (<= 16 bonus points)\n"
   ]
  },
  {
   "cell_type": "markdown",
   "metadata": {
    "colab_type": "text",
    "id": "s9c3LqKO7fBz"
   },
   "source": [
    "## Solution"
   ]
  },
  {
   "cell_type": "code",
   "execution_count": 71,
   "metadata": {
    "colab": {},
    "colab_type": "code",
    "id": "xGq2LhvGOKUP"
   },
   "outputs": [
    {
     "name": "stdout",
     "output_type": "stream",
     "text": [
      "--Head counts--\n",
      "|\tSex\t|\tCount\t|\t%\t|\n",
      "|\tmale\t|\t505\t|\t42.37\t|\n",
      "|\tfemale\t|\t687\t|\t57.63\t|\n",
      "----------\n",
      "Male statistics\n",
      "Minimum salary: 1000.0\n",
      "Maximum salary: 200000.0\n",
      "Average salary: 29786.13\n",
      "Median  salary: 25000.0\n",
      "----------\n",
      "Female statistics\n",
      "Minimum salary: 200.0\n",
      "Maximum salary: 123000.0\n",
      "Average salary: 18280.2\n",
      "Median  salary: 15000.0\n",
      "\n"
     ]
    }
   ],
   "source": [
    "# ENTER YOUR CODE HERE\n",
    "total_count = len(salaries)\n",
    "males = salaries[salaries['sex'] == \"male\"]\n",
    "male_count = len(males)\n",
    "females = salaries[salaries['sex'] == \"female\"]\n",
    "female_count = len(females)\n",
    "print(\"--Head counts--\")\n",
    "print(\"|\\tSex\\t|\\tCount\\t|\\t%\\t|\")\n",
    "print(\"|\\tmale\\t|\\t\" + str(male_count) + \"\\t|\\t\" + str(round(male_count/total_count*100,2))+\"\\t|\")\n",
    "print(\"|\\tfemale\\t|\\t\" + str(female_count) + \"\\t|\\t\" + str(round(female_count/total_count*100,2))+\"\\t|\")\n",
    "print(\"----------\")\n",
    "print(\"Male statistics\")\n",
    "print(\"Minimum salary:\", males[\"earn\"].min())\n",
    "print(\"Maximum salary:\", males[\"earn\"].max())\n",
    "print(\"Average salary:\", round(males[\"earn\"].mean(),2))\n",
    "print(\"Median  salary:\", males[\"earn\"].median())\n",
    "print(\"----------\")\n",
    "print(\"Female statistics\")\n",
    "print(\"Minimum salary:\", females[\"earn\"].min())\n",
    "print(\"Maximum salary:\", females[\"earn\"].max())\n",
    "print(\"Average salary:\", round(females[\"earn\"].mean(),2))\n",
    "print(\"Median  salary:\", females[\"earn\"].median())\n",
    "print()"
   ]
  },
  {
   "cell_type": "code",
   "execution_count": 72,
   "metadata": {
    "colab": {},
    "colab_type": "code",
    "id": "xGq2LhvGOKUP"
   },
   "outputs": [
    {
     "data": {
      "image/png": "[encoded data removed]",
      "text/plain": [
       "<Figure size 432x288 with 1 Axes>"
      ]
     },
     "metadata": {
      "needs_background": "light"
     },
     "output_type": "display_data"
    }
   ],
   "source": [
    "## Add in pretty graph for bonus points\n",
    "# 2 histogram plots, but joined together\n",
    "male_salary_array = np.array(males['earn'])\n",
    "female_salary_array = np.array(females['earn'])\n",
    "\n",
    "combined_2d_array = [male_salary_array,female_salary_array]\n",
    "plt.title('Male salary vs Female salary')\n",
    "plt.xlabel('Salary')\n",
    "plt.ylabel('Number of People');\n",
    "label = [\"male\", \"female\"]\n",
    "plt.hist(combined_2d_array, histtype='bar', label=label)\n",
    "plt.legend(loc='upper right');\n",
    "plt.show()"
   ]
  },
  {
   "cell_type": "markdown",
   "metadata": {
    "colab_type": "text",
    "id": "34cWPF_jOKUQ"
   },
   "source": [
    "--------------------\n",
    "\n",
    "As you can possibly tell by now, this dataset may help us test hypotheses and answer questions related to possible sources of inequality associated with the salary distribution: gender, age, race, height. \n",
    "\n",
    "Let's assume, for the sake of argument, that the number of years of education should correlate well with a person's salary (this is clearly a weak argument and the plot and Pearson correlation coefficient computation above suggests that this is *not* the case) and that other suspiciously high (positive or negative) correlations could be interpreted as a sign of inequality."
   ]
  },
  {
   "cell_type": "markdown",
   "metadata": {
    "colab_type": "text",
    "id": "R1UaYIHoOKUR"
   },
   "source": [
    "---------------------\n",
    "\n",
    "At this point, formulate 3 different hypotheses that might suggest that the salary distribution is biased by factors such as ageism. \n",
    "\n",
    "Call these hypotheses H3, H4, and H5. \n",
    "\n",
    "**Be creative, but realistic! These should be reasonable hypotheses, not silly ones!**"
   ]
  },
  {
   "cell_type": "markdown",
   "metadata": {
    "colab_type": "text",
    "id": "n8odBiXoOKUR"
   },
   "source": [
    "## Your turn! (48+ points)\n",
    "\n",
    "Write Python code to test hypotheses H3, H4, and H5 (and some text to explain whether they were confirmed or not). Feel free to (also) use plots, but make your code independent of a human being interpreting those plots. (16 pts per hypothesis with additional <= 8 bonus points per hypotheses).  "
   ]
  },
  {
   "cell_type": "markdown",
   "metadata": {},
   "source": [
    "# Hypotheses \n",
    "## H3 Age Vs salary\n",
    "People who are older will earn more than younger people\n",
    "\n",
    "## H4 Race Vs salary\n",
    "People who are white will earn more than other races\n",
    "\n",
    "## H5 Heigth Vs salary\n",
    "People who are taller will earn more for both male and female\n",
    "\n",
    "## H6 Education vs Sex\n",
    "Males have more education background than Females"
   ]
  },
  {
   "cell_type": "markdown",
   "metadata": {
    "colab_type": "text",
    "id": "tmUifCzY7gjz"
   },
   "source": [
    "## Solution"
   ]
  },
  {
   "cell_type": "code",
   "execution_count": 83,
   "metadata": {
    "colab": {},
    "colab_type": "code",
    "id": "YTdxHyvMOKUS"
   },
   "outputs": [
    {
     "name": "stdout",
     "output_type": "stream",
     "text": [
      "H3\n"
     ]
    },
    {
     "data": {
      "image/png": "[encoded data removed]",
      "text/plain": [
       "<Figure size 432x288 with 1 Axes>"
      ]
     },
     "metadata": {
      "needs_background": "light"
     },
     "output_type": "display_data"
    },
    {
     "name": "stdout",
     "output_type": "stream",
     "text": [
      "Correlation coefficient:  0.08100297364190615\n"
     ]
    }
   ],
   "source": [
    "# ENTER YOUR CODE HERE\n",
    "print(\"H3\")\n",
    "ages = np.array(salaries['age'])\n",
    "plt.title('Salary vs. Age')\n",
    "plt.ylabel('Salary')\n",
    "plt.xlabel('Age');\n",
    "plt.scatter(ages, salary , alpha=0.5)\n",
    "plt.show()\n",
    "corr, _ = pearsonr(salary,ages)\n",
    "print('Correlation coefficient: ',corr)\n"
   ]
  },
  {
   "cell_type": "markdown",
   "metadata": {},
   "source": [
    "### H3 evaluation\n",
    "\n",
    "Based on the graph there seems to be a tendency the lower incomes cluster around the lower\n",
    "age and higher incomes for older people, but its pretty busy to definitely state that. The pearson correlation coefficient resulted\n",
    "in ~ 0.081 and since that is greater than 0.5 then its showing strengths of a positive corrolation. Based on these\n",
    "results I will say we can confim H3"
   ]
  },
  {
   "cell_type": "code",
   "execution_count": 67,
   "metadata": {},
   "outputs": [
    {
     "name": "stdout",
     "output_type": "stream",
     "text": [
      "H4\n",
      "White Statistics\n",
      "Race count(percentage): 989 (82.97)\n",
      "Minimum salary: 200.0\n",
      "Maximum salary: 200000.0\n",
      "Average salary: 23882.47\n",
      "Median  salary: 20000.0\n",
      "Standard Deviation: 20374.73\n",
      "\n",
      "Black Statistics\n",
      "Race count(percentage): 112 (9.4)\n",
      "Minimum salary: 600.0\n",
      "Maximum salary: 60000.0\n",
      "Average salary: 19624.21\n",
      "Median  salary: 20000.0\n",
      "Standard Deviation: 11947.74\n",
      "\n",
      "Other Statistics\n",
      "Race count(percentage): 25 (2.1)\n",
      "Minimum salary: 3000.0\n",
      "Maximum salary: 110000.0\n",
      "Average salary: 23096.64\n",
      "Median  salary: 20000.0\n",
      "Standard Deviation: 21790.8\n",
      "\n",
      "Hispanic Statistics\n",
      "Race count(percentage): 66 (5.54)\n",
      "Minimum salary: 1400.0\n",
      "Maximum salary: 55000.0\n",
      "Average salary: 18263.64\n",
      "Median  salary: 16000.0\n",
      "Standard Deviation: 12832.53\n",
      "\n"
     ]
    }
   ],
   "source": [
    "print(\"H4\")\n",
    "races = np.array(salaries['race'])\n",
    "total_count = len(races)\n",
    "unique_races = list(set(races))\n",
    "labels = []\n",
    "# Loop over all the races, collect their salaries so we can have a bargraph\n",
    "collected_race_earn_data = []\n",
    "average_data = []\n",
    "std_data = []\n",
    "for race in unique_races:\n",
    "    specific_race_earn_data = salaries[salaries['race'] == race][\"earn\"]\n",
    "    print(race.capitalize() +\" Statistics\")\n",
    "    size = len(specific_race_earn_data)\n",
    "    print(\"Race count(percentage):\", size, \"(\" + str(round(size/total_count * 100,2))  + \")\")\n",
    "    print(\"Minimum salary:\", specific_race_earn_data.min())\n",
    "    print(\"Maximum salary:\", specific_race_earn_data.max())\n",
    "    average = round(specific_race_earn_data.mean(),2)\n",
    "    average_data.append(average)\n",
    "    print(\"Average salary:\", average)\n",
    "    print(\"Median  salary:\", specific_race_earn_data.median())\n",
    "    std = round(specific_race_earn_data.std(),2)\n",
    "    std_data.append(std)\n",
    "    print(\"Standard Deviation:\", std)\n",
    "    print()\n",
    "    collected_race_earn_data.append(specific_race_earn_data)"
   ]
  },
  {
   "cell_type": "code",
   "execution_count": 68,
   "metadata": {},
   "outputs": [
    {
     "data": {
      "image/png": "[encoded data removed]",
      "text/plain": [
       "<Figure size 432x288 with 1 Axes>"
      ]
     },
     "metadata": {
      "needs_background": "light"
     },
     "output_type": "display_data"
    }
   ],
   "source": [
    "plt.title('Average Salary vs. Race (chart1)')\n",
    "y_pos = np.arange(len(unique_races))\n",
    "plt.bar(y_pos, average_data, align='center', alpha=0.5)\n",
    "plt.xticks(y_pos, unique_races)\n",
    "plt.ylabel('Average Salary')\n",
    "plt.title('Race')\n",
    "plt.show()"
   ]
  },
  {
   "cell_type": "code",
   "execution_count": 69,
   "metadata": {},
   "outputs": [
    {
     "data": {
      "image/png": "[encoded data removed]",
      "text/plain": [
       "<Figure size 432x288 with 1 Axes>"
      ]
     },
     "metadata": {
      "needs_background": "light"
     },
     "output_type": "display_data"
    }
   ],
   "source": [
    "plt.title('Standard Deviation Salary vs. Race(chart2)')\n",
    "y_pos = np.arange(len(unique_races))\n",
    "plt.bar(y_pos, std_data, align='center', alpha=0.5)\n",
    "plt.xticks(y_pos, unique_races)\n",
    "plt.ylabel('Standard Deviation Salary')\n",
    "plt.title('Race')\n",
    "plt.show()"
   ]
  },
  {
   "cell_type": "code",
   "execution_count": 70,
   "metadata": {},
   "outputs": [
    {
     "data": {
      "image/png": "[encoded data removed]",
      "text/plain": [
       "<Figure size 432x288 with 1 Axes>"
      ]
     },
     "metadata": {
      "needs_background": "light"
     },
     "output_type": "display_data"
    }
   ],
   "source": [
    "plt.title('Salary vs. Race(chart3)')\n",
    "plt.ylabel('Salary')\n",
    "plt.xlabel('Race');\n",
    "plt.scatter(races, salary , alpha=0.5)\n",
    "plt.show()"
   ]
  },
  {
   "cell_type": "markdown",
   "metadata": {},
   "source": [
    "### H4 evaluation\n",
    "First off taking a look at the percent spread between different races there was an 82% of the survey was white. We might state that this might be too small of a sample size with not a good amount of ratio between the different races\n",
    "\n",
    "Moving on to the evaluation, we can see the average salary at chart1 by race goes from high to low as follows [white: 23882.47, other: 23096.64, black: 19624.21, Hispanic: 18263.64]. Looking at the averages this starts to lean towards H3 being plausable. \n",
    "\n",
    "Taking a look at the Standard Deviation chart2 it shows a little different order [ other: 21790.8, white:20374.73, Hispanic: 12832.53, black: 11947.74]. We see other is taking over the lead for this comparison. \n",
    "\n",
    "Observing the scatter plot chart3 of all the salaries split by rance you can see the custering of white to be higher than all of the other races.\n",
    "\n",
    "Based on the data observed and with the caveat that the sample distribution was not good, I would say H4 is plausable. I dont think we can fully confirm or reject H3 based on the data. I would reccomend further investigation to get a better dataset."
   ]
  },
  {
   "cell_type": "code",
   "execution_count": 116,
   "metadata": {},
   "outputs": [
    {
     "name": "stdout",
     "output_type": "stream",
     "text": [
      "H5\n"
     ]
    },
    {
     "data": {
      "image/png": "[encoded data removed]",
      "text/plain": [
       "<Figure size 432x288 with 1 Axes>"
      ]
     },
     "metadata": {
      "needs_background": "light"
     },
     "output_type": "display_data"
    },
    {
     "name": "stdout",
     "output_type": "stream",
     "text": [
      "Correlation coefficient:  0.2418481495362671\n"
     ]
    }
   ],
   "source": [
    "print(\"H5\")\n",
    "ages = np.array(salaries['height'])\n",
    "plt.title('Height vs. Salary')\n",
    "plt.xlabel('Height')\n",
    "plt.ylabel('Salary');\n",
    "plt.scatter(ages, salary , alpha=0.5)\n",
    "plt.show()\n",
    "corr, _ = pearsonr(salary,ages)\n",
    "print('Correlation coefficient: ',corr)"
   ]
  },
  {
   "cell_type": "markdown",
   "metadata": {},
   "source": [
    "### H5 evaluation\n",
    "For H5 we are looking to see if there is any coorlation between someones heigth and their salary. From the scatter plot there is clustering between a heigth of 60 to 72 and salary ~4,000 to 45,000, but this is just one large cluster. From the human eye I dont see any seperation between the groups. The Pearson correlation coefficient is showing a result of 0.2418 which is inbetween -0.5 and 0.5 which shows an extreamly weak correlation between the two attributes\n",
    "based on these results I can refute H5"
   ]
  },
  {
   "cell_type": "code",
   "execution_count": 66,
   "metadata": {},
   "outputs": [
    {
     "name": "stdout",
     "output_type": "stream",
     "text": [
      "H6 - For Fun!\n",
      "Male count: 505 percent: 42.37\n",
      "Female count: 687 percent: 57.63\n",
      "Male Stats:\n",
      "Min 4\n",
      "Max 18\n",
      "Average: 13.6\n",
      "Median: 13.0\n",
      "Standard Deviation: 2.5\n",
      "-----------\n",
      "Female Stats:\n",
      "Min 3\n",
      "Max 18\n",
      "Average: 13.44\n",
      "Median: 13.0\n",
      "Standard Deviation: 2.36\n"
     ]
    }
   ],
   "source": [
    "print(\"H6 - For Fun!\") \n",
    "\n",
    "male_edu = salaries[salaries[\"sex\"] == \"male\"][\"ed\"]\n",
    "print(\"Male count:\", male_edu.count(), \"percent:\",round(male_edu.count()/ len(salaries)*100, 2))\n",
    "female_edu = salaries[salaries[\"sex\"] == \"female\"][\"ed\"]\n",
    "print(\"Female count:\", female_edu.count(), \"percent:\",round(female_edu.count()/ len(salaries)*100, 2))\n",
    "\n",
    "def compute_basic_stats(data):\n",
    "    print(\"Min\", data.min())\n",
    "    print(\"Max\", data.max())\n",
    "    print(\"Average:\", round(data.mean(),2))\n",
    "    print(\"Median:\", round(data.median(),2))\n",
    "    print(\"Standard Deviation:\", round(data.std(),2))\n",
    "\n",
    "print(\"Male Stats:\")\n",
    "compute_basic_stats(male_edu)\n",
    "print(\"-----------\")\n",
    "print(\"Female Stats:\")\n",
    "compute_basic_stats(female_edu)\n"
   ]
  },
  {
   "cell_type": "markdown",
   "metadata": {},
   "source": [
    "### H6 evaluation\n",
    "Based on purly looking at the simple stastics results it appears that on average Males  has .16 more years of education experience. I dont think I have enougt analysis to truly confirm that males have more education and with the current analysis its very close. One thing to note is we do have a good spread with 57% female and 42% male, where as previous comparisions in race it was unbalanced. "
   ]
  },
  {
   "cell_type": "markdown",
   "metadata": {
    "colab_type": "text",
    "id": "fiXV2xUI7lUZ"
   },
   "source": [
    "-------------------\n",
    "## Level 3: Fuel consumption"
   ]
  },
  {
   "cell_type": "markdown",
   "metadata": {
    "colab_type": "text",
    "id": "0EDk6NGk8YsH"
   },
   "source": [
    "The Python code below will load a dataset containing fuel consumption data for ~400 vehicles produced in the 1970s and the 1980s along with some characteristic information associated with each model. \n",
    "\n",
    "Here, *displacement* refers to a vehicle's engine size and the fuel efficiency is measured in miles per gallon (mpg).\n",
    "\n",
    "See:\n",
    "https://archive.ics.uci.edu/ml/datasets/Auto+MPG for additional information."
   ]
  },
  {
   "cell_type": "code",
   "execution_count": 36,
   "metadata": {
    "colab": {
     "base_uri": "https://localhost:8080/",
     "height": 34
    },
    "colab_type": "code",
    "id": "4dkSabDG5gjc",
    "outputId": "3c3cdd00-171e-4e91-9bcc-67f79eceeb70"
   },
   "outputs": [
    {
     "name": "stdout",
     "output_type": "stream",
     "text": [
      "(406, 9)\n"
     ]
    }
   ],
   "source": [
    "sns.set(style='ticks', palette='Set2')\n",
    "%matplotlib inline\n",
    "file = 'data/auto-mpg.data-original'\n",
    "data = pd.read_csv(file,\n",
    "                   delim_whitespace = True, header=None,\n",
    "                   names = ['mpg', 'cylinders', 'displacement', 'horsepower', 'weight', 'acceleration',\n",
    "                            'model', 'origin', 'car_name'])\n",
    "print(data.shape)"
   ]
  },
  {
   "cell_type": "code",
   "execution_count": 37,
   "metadata": {
    "colab": {
     "base_uri": "https://localhost:8080/",
     "height": 204
    },
    "colab_type": "code",
    "id": "WVNr-0SxD7Ai",
    "outputId": "c94ffa72-a01b-45b8-eb19-5b16b60f2798"
   },
   "outputs": [
    {
     "data": {
      "text/html": [
       "<div>\n",
       "<style scoped>\n",
       "    .dataframe tbody tr th:only-of-type {\n",
       "        vertical-align: middle;\n",
       "    }\n",
       "\n",
       "    .dataframe tbody tr th {\n",
       "        vertical-align: top;\n",
       "    }\n",
       "\n",
       "    .dataframe thead th {\n",
       "        text-align: right;\n",
       "    }\n",
       "</style>\n",
       "<table border=\"1\" class=\"dataframe\">\n",
       "  <thead>\n",
       "    <tr style=\"text-align: right;\">\n",
       "      <th></th>\n",
       "      <th>mpg</th>\n",
       "      <th>cylinders</th>\n",
       "      <th>displacement</th>\n",
       "      <th>horsepower</th>\n",
       "      <th>weight</th>\n",
       "      <th>acceleration</th>\n",
       "      <th>model</th>\n",
       "      <th>origin</th>\n",
       "      <th>car_name</th>\n",
       "    </tr>\n",
       "  </thead>\n",
       "  <tbody>\n",
       "    <tr>\n",
       "      <th>0</th>\n",
       "      <td>18.0</td>\n",
       "      <td>8.0</td>\n",
       "      <td>307.0</td>\n",
       "      <td>130.0</td>\n",
       "      <td>3504.0</td>\n",
       "      <td>12.0</td>\n",
       "      <td>70.0</td>\n",
       "      <td>1.0</td>\n",
       "      <td>chevrolet chevelle malibu</td>\n",
       "    </tr>\n",
       "    <tr>\n",
       "      <th>1</th>\n",
       "      <td>15.0</td>\n",
       "      <td>8.0</td>\n",
       "      <td>350.0</td>\n",
       "      <td>165.0</td>\n",
       "      <td>3693.0</td>\n",
       "      <td>11.5</td>\n",
       "      <td>70.0</td>\n",
       "      <td>1.0</td>\n",
       "      <td>buick skylark 320</td>\n",
       "    </tr>\n",
       "    <tr>\n",
       "      <th>2</th>\n",
       "      <td>18.0</td>\n",
       "      <td>8.0</td>\n",
       "      <td>318.0</td>\n",
       "      <td>150.0</td>\n",
       "      <td>3436.0</td>\n",
       "      <td>11.0</td>\n",
       "      <td>70.0</td>\n",
       "      <td>1.0</td>\n",
       "      <td>plymouth satellite</td>\n",
       "    </tr>\n",
       "    <tr>\n",
       "      <th>3</th>\n",
       "      <td>16.0</td>\n",
       "      <td>8.0</td>\n",
       "      <td>304.0</td>\n",
       "      <td>150.0</td>\n",
       "      <td>3433.0</td>\n",
       "      <td>12.0</td>\n",
       "      <td>70.0</td>\n",
       "      <td>1.0</td>\n",
       "      <td>amc rebel sst</td>\n",
       "    </tr>\n",
       "    <tr>\n",
       "      <th>4</th>\n",
       "      <td>17.0</td>\n",
       "      <td>8.0</td>\n",
       "      <td>302.0</td>\n",
       "      <td>140.0</td>\n",
       "      <td>3449.0</td>\n",
       "      <td>10.5</td>\n",
       "      <td>70.0</td>\n",
       "      <td>1.0</td>\n",
       "      <td>ford torino</td>\n",
       "    </tr>\n",
       "  </tbody>\n",
       "</table>\n",
       "</div>"
      ],
      "text/plain": [
       "    mpg  cylinders  displacement  horsepower  weight  acceleration  model  \\\n",
       "0  18.0        8.0         307.0       130.0  3504.0          12.0   70.0   \n",
       "1  15.0        8.0         350.0       165.0  3693.0          11.5   70.0   \n",
       "2  18.0        8.0         318.0       150.0  3436.0          11.0   70.0   \n",
       "3  16.0        8.0         304.0       150.0  3433.0          12.0   70.0   \n",
       "4  17.0        8.0         302.0       140.0  3449.0          10.5   70.0   \n",
       "\n",
       "   origin                   car_name  \n",
       "0     1.0  chevrolet chevelle malibu  \n",
       "1     1.0          buick skylark 320  \n",
       "2     1.0         plymouth satellite  \n",
       "3     1.0              amc rebel sst  \n",
       "4     1.0                ford torino  "
      ]
     },
     "execution_count": 37,
     "metadata": {},
     "output_type": "execute_result"
    }
   ],
   "source": [
    "data.dropna(inplace=True)\n",
    "data.head()"
   ]
  },
  {
   "cell_type": "markdown",
   "metadata": {
    "colab_type": "text",
    "id": "QtjTzR09-PyS"
   },
   "source": [
    "## Question 3 (6 points)\n",
    "\n",
    "What was the net effect of the line of code\n",
    "\n",
    "``data.dropna(inplace=True)``?"
   ]
  },
  {
   "cell_type": "markdown",
   "metadata": {
    "colab_type": "text",
    "id": "RRG5lAHB-PyV"
   },
   "source": [
    "## Solution"
   ]
  },
  {
   "cell_type": "markdown",
   "metadata": {
    "colab_type": "text",
    "id": "YxJNmDgn-PyW"
   },
   "source": [
    "Based on the Pandas documenetation the dropna method will remove rows that have missing values that are in the dataset. Passing the arugment inpalce to True will update the data object.\n",
    "Source: https://pandas.pydata.org/pandas-docs/stable/reference/api/pandas.DataFrame.dropna.html"
   ]
  },
  {
   "cell_type": "markdown",
   "metadata": {
    "colab_type": "text",
    "id": "MArizMt0_P1A"
   },
   "source": [
    "## Your turn! (18+ points)\n",
    "\n",
    "Write code to:\n",
    "\n",
    "1. Count the number of 3- and 5-cylinder vehicles in the dataset, display the count, and discard those entries (rows). (12 pts)\n",
    "2. Compute and display the min, max, and average fuel consumption (in mpg) for 4-, 6-, and 8-cylinder vehicles. (6 pts)\n",
    "3. (OPTIONAL) Display the name of the most and least fuel efficient vehicles in the dataset (<= 4 points)\n"
   ]
  },
  {
   "cell_type": "markdown",
   "metadata": {
    "colab_type": "text",
    "id": "BTExQawjAIuU"
   },
   "source": [
    "## Solution"
   ]
  },
  {
   "cell_type": "code",
   "execution_count": 42,
   "metadata": {
    "colab": {},
    "colab_type": "code",
    "id": "d4jcQfb2AIub"
   },
   "outputs": [
    {
     "name": "stdout",
     "output_type": "stream",
     "text": [
      "#1\n",
      "Number of 3 cylinder Vehicles 0\n",
      "Number of 5 cylinder Vehicles 0\n",
      "Total number of cars before removal: 385\n",
      "Total number of cars after removal: 385\n"
     ]
    }
   ],
   "source": [
    "print(\"#1\")\n",
    "print(\"Number of 3 cylinder Vehicles\",len(data[data[\"cylinders\"] == 3]))\n",
    "print(\"Number of 5 cylinder Vehicles\", len(data[data[\"cylinders\"] == 5]))\n",
    "print(\"Total number of cars before removal:\", len(data))\n",
    "data = data[data[\"cylinders\"] != 3] # Removing 3 cylinder cars\n",
    "data = data[data[\"cylinders\"] != 5] # Removing 5 cylinder cars\n",
    "print(\"Total number of cars after removal:\", len(data))"
   ]
  },
  {
   "cell_type": "code",
   "execution_count": 43,
   "metadata": {
    "colab": {},
    "colab_type": "code",
    "id": "d4jcQfb2AIub"
   },
   "outputs": [
    {
     "name": "stdout",
     "output_type": "stream",
     "text": [
      "\n",
      "#2\n",
      "Fuel consumption(mpg) statistics data for cars with 4 cylinders\n",
      "Min 18.0\n",
      "Max 46.6\n",
      "Average: 29.28\n",
      "-------\n",
      "Fuel consumption(mpg) statistics data for cars with 6 cylinders\n",
      "Min 15.0\n",
      "Max 38.0\n",
      "Average: 19.97\n",
      "-------\n",
      "Fuel consumption(mpg) statistics data for cars with 8 cylinders\n",
      "Min 9.0\n",
      "Max 26.6\n",
      "Average: 14.96\n",
      "-------\n"
     ]
    }
   ],
   "source": [
    "print(\"\\n#2\")\n",
    "def compute_stats(data, cylinder_count):\n",
    "    loc_data = data[data[\"cylinders\"] == cylinder_count][\"mpg\"]\n",
    "    print(\"Fuel consumption(mpg) statistics data for cars with\",cylinder_count,\"cylinders\")\n",
    "    print(\"Min\", loc_data.min())\n",
    "    print(\"Max\", loc_data.max())\n",
    "    print(\"Average:\", round(loc_data.mean(),2))\n",
    "    print(\"-------\")\n",
    "compute_stats(data, 4)\n",
    "compute_stats(data, 6)\n",
    "compute_stats(data, 8)"
   ]
  },
  {
   "cell_type": "code",
   "execution_count": 44,
   "metadata": {
    "colab": {},
    "colab_type": "code",
    "id": "d4jcQfb2AIub"
   },
   "outputs": [
    {
     "name": "stdout",
     "output_type": "stream",
     "text": [
      "\n",
      "#3\n",
      "Least fuel efficent vehicles:\n",
      "hi 1200d mpg: 9.0\n",
      "Most fuel efficent vehicles:\n",
      "mazda glc mpg: 46.6\n"
     ]
    }
   ],
   "source": [
    "print(\"\\n#3\")\n",
    "min_mpg = data[\"mpg\"].min()\n",
    "bad_cars = data[data[\"mpg\"] == min_mpg]\n",
    "# I already know that there is only 1 car, so just indexing right into it\n",
    "bad_car_name = np.array(bad_cars[\"car_name\"])[0]\n",
    "bad_car_mpg = np.array(bad_cars[\"mpg\"])[0]\n",
    "print(\"Least fuel efficent vehicles:\")\n",
    "print(bad_car_name,\"mpg:\", bad_car_mpg ) \n",
    "max_mpg = data[\"mpg\"].max()\n",
    "good_cars = data[data[\"mpg\"] == max_mpg]\n",
    "# I already know that there is only 1 car, so just indexing right into it\n",
    "good_car_name = np.array(good_cars[\"car_name\"])[0]\n",
    "good_car_mpg = np.array(good_cars[\"mpg\"])[0]\n",
    "print(\"Most fuel efficent vehicles:\")\n",
    "print(good_car_name,\"mpg:\", good_car_mpg ) "
   ]
  },
  {
   "cell_type": "markdown",
   "metadata": {
    "colab_type": "text",
    "id": "KCU0fOaqAaIJ"
   },
   "source": [
    "--------------------\n",
    "\n",
    "This dataset may help us test hypotheses and answer questions related to fuel consumption. \n",
    "\n",
    "To get started: Which features of a vehicle correlate best with its mpg --  *displacement*, *weight*, or *horsepower*?"
   ]
  },
  {
   "cell_type": "markdown",
   "metadata": {
    "colab_type": "text",
    "id": "rzrD2ZFgAaIM"
   },
   "source": [
    "## Your turn! (48 points)\n",
    "\n",
    "Write Python code to plot the relationship between:\n",
    "\n",
    "1. Fuel consumption and displacement (engine size)\n",
    "2. Fuel consumption and weight\n",
    "3. Fuel consumption and horsepower (HP)\n"
   ]
  },
  {
   "cell_type": "markdown",
   "metadata": {
    "colab_type": "text",
    "id": "12jR1y-0AaIN"
   },
   "source": [
    "## Solution"
   ]
  },
  {
   "cell_type": "code",
   "execution_count": 39,
   "metadata": {
    "colab": {},
    "colab_type": "code",
    "id": "MEXtqJIsAaIO"
   },
   "outputs": [
    {
     "name": "stdout",
     "output_type": "stream",
     "text": [
      "#1\n"
     ]
    },
    {
     "data": {
      "image/png": "[encoded data removed]",
      "text/plain": [
       "<Figure size 432x288 with 1 Axes>"
      ]
     },
     "metadata": {
      "needs_background": "light"
     },
     "output_type": "display_data"
    },
    {
     "name": "stdout",
     "output_type": "stream",
     "text": [
      "Correlation coefficient:  -0.817887362940059\n"
     ]
    }
   ],
   "source": [
    "fuel_data = data[\"mpg\"]\n",
    "print(\"#1\")\n",
    "displacement_data = data[\"displacement\"]\n",
    "plt.title('Fuel consumption(mpg) vs. Displacement(engine size)')\n",
    "plt.xlabel('Fuel')\n",
    "plt.ylabel('Displacement');\n",
    "plt.scatter(fuel_data, displacement_data, alpha=0.5)\n",
    "plt.show()\n",
    "corr, _ = pearsonr(fuel_data,displacement_data)\n",
    "print('Correlation coefficient: ',corr)"
   ]
  },
  {
   "cell_type": "code",
   "execution_count": 40,
   "metadata": {
    "colab": {},
    "colab_type": "code",
    "id": "MEXtqJIsAaIO"
   },
   "outputs": [
    {
     "name": "stdout",
     "output_type": "stream",
     "text": [
      "#2\n"
     ]
    },
    {
     "data": {
      "image/png": "[encoded data removed]",
      "text/plain": [
       "<Figure size 432x288 with 1 Axes>"
      ]
     },
     "metadata": {
      "needs_background": "light"
     },
     "output_type": "display_data"
    },
    {
     "name": "stdout",
     "output_type": "stream",
     "text": [
      "Correlation coefficient:  -0.8426809031318667\n"
     ]
    }
   ],
   "source": [
    "print(\"#2\")\n",
    "weight_data = data[\"weight\"]\n",
    "plt.title('Fuel consumption(mpg) vs. Weight')\n",
    "plt.xlabel('Fuel')\n",
    "plt.ylabel('Weight');\n",
    "plt.scatter(fuel_data, weight_data, alpha=0.5)\n",
    "plt.show()\n",
    "corr, _ = pearsonr(fuel_data,weight_data)\n",
    "print('Correlation coefficient: ',corr)"
   ]
  },
  {
   "cell_type": "code",
   "execution_count": 45,
   "metadata": {
    "colab": {},
    "colab_type": "code",
    "id": "MEXtqJIsAaIO"
   },
   "outputs": [
    {
     "name": "stdout",
     "output_type": "stream",
     "text": [
      "#3\n"
     ]
    },
    {
     "data": {
      "image/png": "[encoded data removed]",
      "text/plain": [
       "<Figure size 432x288 with 1 Axes>"
      ]
     },
     "metadata": {
      "needs_background": "light"
     },
     "output_type": "display_data"
    },
    {
     "name": "stdout",
     "output_type": "stream",
     "text": [
      "Correlation coefficient:  -0.7802588157322385\n"
     ]
    }
   ],
   "source": [
    "print(\"#3\")\n",
    "horsepower_data = data[\"horsepower\"]\n",
    "plt.title('Fuel consumption(mpg) vs. horsepower')\n",
    "plt.xlabel('Fuel')\n",
    "plt.ylabel('horsepower');\n",
    "plt.scatter(fuel_data, horsepower_data, alpha=0.5)\n",
    "plt.show()\n",
    "corr, _ = pearsonr(fuel_data,horsepower_data)\n",
    "print('Correlation coefficient: ',corr)"
   ]
  },
  {
   "cell_type": "markdown",
   "metadata": {
    "colab_type": "text",
    "id": "_VPbGcGrFSEH"
   },
   "source": [
    "## Questions 4-6 (30 points, i.e. 10 points each)\n",
    "\n",
    "For each of the three cases above, use the plots to answer the questions below:\n",
    "\n",
    "4. Is there a correlation between mpg and displacement? If so: is it positive or negative? linear or non-linear?\n",
    "5. Is there a correlation between mpg and weight? If so: is it positive or negative? linear or non-linear?\n",
    "6. Is there a correlation between mpg and horsepower? If so: is it positive or negative? linear or non-linear?\n",
    "\n"
   ]
  },
  {
   "cell_type": "markdown",
   "metadata": {
    "colab_type": "text",
    "id": "lLqwEM9sDI0E"
   },
   "source": [
    "## Solution"
   ]
  },
  {
   "cell_type": "markdown",
   "metadata": {
    "colab_type": "text",
    "id": "UJwFE9B9DI0H"
   },
   "source": [
    "4. Yes there is a negative coorleation between mpg and displacement since the Pearson coefficient shows -0.81788. Since this falls past -0.5, that means is reletvly strong coorleation. The negative coorleation means with the incease of displacment the MPG will decrease. Somewhat linear between 12-25mpg. Past 25mpg it doesnt go align with the rest of the data.I would say trending linear but has some non-linear characteristics.\n",
    "\n",
    "5. Yes there is a negative coorleation between mpg and weight since the Pearson coefficient shows -0.84268. Since this falls past -0.5, that means is reletvly strong coorleation. The negative coorleation means with the incease of horsepower the MPG will decrease. At of all three comparisions, this shows the strongest negative coorlation relative to MPG. Somewhat linear between 12-25mpg. Past 25mpg it doesnt go align with the rest of the data.I would say trending linear but has some non-linear characteristics.\n",
    "\n",
    "6. Yes there is a negative coorleation between mpg and horsepower since the Pearson coefficient shows -0.78025. Since this falls past -0.5, that means is reletvly strong coorleation. The negative coorleation means with the incease of horsepower the MPG will decrease. Some portions could show non-linear caracteristics espically past 35 MPG but in general I would tend to lean that this graph shows mostly linear ."
   ]
  },
  {
   "cell_type": "markdown",
   "metadata": {
    "colab_type": "text",
    "id": "0n9yctP0CmC9"
   },
   "source": [
    "## Questions 7-8 (30 points, i.e. 15 points each)\n",
    "\n",
    "Write Python code to produce (box)plots that should provide good answers the questions below:\n",
    "\n",
    "7. Did vehicles get more efficient over the years (represented in this dataset, i.e., 1970 through 1982)?\n",
    "8. Are Japanese cars more fuel efficient than American or European ones?\n",
    "\n",
    "Hint: \n",
    "\n",
    "``data['Country_code'] = data.origin.replace([1,2,3],['USA','Europe','Japan'])``\n",
    "\n"
   ]
  },
  {
   "cell_type": "markdown",
   "metadata": {
    "colab_type": "text",
    "id": "fK18FNLpIRW9"
   },
   "source": [
    "## Solution"
   ]
  },
  {
   "cell_type": "code",
   "execution_count": 50,
   "metadata": {
    "colab": {},
    "colab_type": "code",
    "id": "J4Y4hYkAIRXA"
   },
   "outputs": [
    {
     "name": "stdout",
     "output_type": "stream",
     "text": [
      "#7\n"
     ]
    },
    {
     "data": {
      "text/plain": [
       "<matplotlib.axes._subplots.AxesSubplot at 0x21b2374ddd8>"
      ]
     },
     "execution_count": 50,
     "metadata": {},
     "output_type": "execute_result"
    },
    {
     "data": {
      "image/png": "[encoded data removed]",
      "text/plain": [
       "<Figure size 432x288 with 1 Axes>"
      ]
     },
     "metadata": {
      "needs_background": "light"
     },
     "output_type": "display_data"
    }
   ],
   "source": [
    "print(\"#7\")\n",
    "data.boxplot(by=\"model\", column = \"mpg\")"
   ]
  },
  {
   "cell_type": "markdown",
   "metadata": {},
   "source": [
    "Examination of the MPG over the years(model) it does show tendencies that the MPG improves."
   ]
  },
  {
   "cell_type": "code",
   "execution_count": 51,
   "metadata": {},
   "outputs": [
    {
     "name": "stdout",
     "output_type": "stream",
     "text": [
      "#8\n"
     ]
    },
    {
     "data": {
      "text/plain": [
       "<matplotlib.axes._subplots.AxesSubplot at 0x21b2389fba8>"
      ]
     },
     "execution_count": 51,
     "metadata": {},
     "output_type": "execute_result"
    },
    {
     "data": {
      "image/png": "[encoded data removed]",
      "text/plain": [
       "<Figure size 432x288 with 1 Axes>"
      ]
     },
     "metadata": {
      "needs_background": "light"
     },
     "output_type": "display_data"
    }
   ],
   "source": [
    "print(\"#8\")\n",
    "data['country_code'] = data.origin.replace([1,2,3],['USA','Europe','Japan'])\n",
    "data.boxplot(by=\"country_code\", column = \"mpg\")"
   ]
  },
  {
   "cell_type": "markdown",
   "metadata": {},
   "source": [
    "Examining the box that shows the relationship between cars grouped by country vs the MPG they preform it shows that Japanies car have better MPG relative to Europe and USA. Europe follows right behind  Japan and USA has the worst overall MPG in the dataset"
   ]
  },
  {
   "cell_type": "markdown",
   "metadata": {
    "colab_type": "text",
    "id": "GLi0m9uuKkpD"
   },
   "source": [
    "## Conclusions (36 points)\n",
    "\n",
    "Write your conclusions and make sure to address the issues below:\n",
    "1. What have you learned from this assignment?\n",
    "2. Which parts were the most fun, time-consuming, enlightening, tedious?\n",
    "3. What would you do if you had an additional week to work on this?"
   ]
  },
  {
   "cell_type": "markdown",
   "metadata": {
    "colab_type": "text",
    "id": "tmRWLHo5K99F"
   },
   "source": [
    "## Solution"
   ]
  },
  {
   "cell_type": "markdown",
   "metadata": {
    "colab_type": "text",
    "id": "ug_U9rd3K99G"
   },
   "source": [
    "(WRITE YOUR CONCLUSIONS HERE)"
   ]
  },
  {
   "cell_type": "markdown",
   "metadata": {},
   "source": [
    "1. I have learned much about how to use panda DataFrames. How to search, add, remove, extract data from the DataFrames. Learned how to use the basica stat functions that pandas offers. Learned how to plot different datasets and how to try to evaluate trends. Learned about coorlation between attributes using Pearson coeffiecient. I learned much about Jupnyer Labs!\n",
    "2. I absoutly loved trying to figure out how to graph the data in a good way! Also really nice job laying out this notebook! It really helps organize thoughts and tells the story nicely :). The most time consuming part was just getting use to Pandas and how to search and itterate over the data since its a little different than Python dicts.\n",
    "3. Probably do some more reasearch on any other functions that I could use to tell if things are linear or non-linear. Also maybe reasearch more about the graphs in how to represent the data. I am sure there are oppertinities for improvment such as adding linear lines. I also would like to know how to figure out coorlation between attributes that are not numeric"
   ]
  }
 ],
 "metadata": {
  "colab": {
   "collapsed_sections": [
    "Sf9JB_ntOKTg"
   ],
   "name": "CAP5768_Assignment1.ipynb",
   "provenance": [],
   "version": "0.3.2"
  },
  "kernelspec": {
   "display_name": "Python 3",
   "language": "python",
   "name": "python3"
  },
  "language_info": {
   "codemirror_mode": {
    "name": "ipython",
    "version": 3
   },
   "file_extension": ".py",
   "mimetype": "text/x-python",
   "name": "python",
   "nbconvert_exporter": "python",
   "pygments_lexer": "ipython3",
   "version": "3.7.3"
  }
 },
 "nbformat": 4,
 "nbformat_minor": 4
}
